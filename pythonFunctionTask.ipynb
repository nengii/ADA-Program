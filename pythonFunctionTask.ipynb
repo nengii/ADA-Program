{
 "cells": [
  {
   "cell_type": "code",
   "execution_count": null,
   "metadata": {},
   "outputs": [],
   "source": [
    "# Define the function without parameters\n",
    "def love():\n",
    "    # Set 0 as the default value for the varaiables\n",
    "    singleness = 0\n",
    "    maturity = 0\n",
    "    intelligence = 0\n",
    "    trust = 0\n",
    "    love_score = 0\n",
    "    \n",
    "    # Use a while loop to prompt user for singleness score until they enter 1\n",
    "    while singleness != 1:\n",
    "        try:\n",
    "            singleness = int(input(\"Enter your singleness score (must be 1): \"))\n",
    "        except ValueError:\n",
    "            # Print an error message if the user enters a non-numeric value\n",
    "            print(\"Please enter a number between 1 and 10\")\n",
    "            continue\n",
    "        \n",
    "        if singleness != 1:\n",
    "            # Print an error message if the user enters a value other than 1\n",
    "            print(\"Please enter the number 1\")\n",
    "    \n",
    "    # Use a while loop to prompt user for other scores until their total score is at least 21\n",
    "    while True:\n",
    "        try:\n",
    "            maturity = int(input(\"Enter your maturity score (1-10): \"))\n",
    "            intelligence = int(input(\"Enter your intelligence score (1-10): \"))\n",
    "            trust = int(input(\"Enter your trust score (1-10): \"))\n",
    "            love_score = int(input(\"Enter your love score (1-10): \"))\n",
    "        except ValueError:\n",
    "            # Print an error message if the user enters a non-numeric value\n",
    "            print(\"Please enter a number between 1 and 10\")\n",
    "            continue\n",
    "        \n",
    "        if maturity < 1 or maturity > 10 or intelligence < 1 or intelligence > 10 \\\n",
    "                or trust < 1 or trust > 10 or love_score < 1 or love_score > 10:\n",
    "            # Print an error message if the user enters a value outside of the 1-10 range\n",
    "            print(\"Please enter a number between 1 and 10\")\n",
    "            continue\n",
    "        \n",
    "        # Calculate the total score and print a message based on whether it is at least 21\n",
    "        total_score = singleness + maturity + intelligence + trust + love_score\n",
    "        if total_score >= 21:\n",
    "            print(\"Congratulations! You are closer to your desired romantic relationship\")\n",
    "            break\n",
    "        else:\n",
    "            print(\"Your total score is below 21. Keep working on your relationship skills!\")\n"
   ]
  }
 ],
 "metadata": {
  "kernelspec": {
   "display_name": "base",
   "language": "python",
   "name": "python3"
  },
  "language_info": {
   "codemirror_mode": {
    "name": "ipython",
    "version": 3
   },
   "file_extension": ".py",
   "mimetype": "text/x-python",
   "name": "python",
   "nbconvert_exporter": "python",
   "pygments_lexer": "ipython3",
   "version": "3.9.13"
  },
  "orig_nbformat": 4,
  "vscode": {
   "interpreter": {
    "hash": "263930470851f494f0ed2879c35b57985588df20f9e529b86e97dd5eb9ddc466"
   }
  }
 },
 "nbformat": 4,
 "nbformat_minor": 2
}
